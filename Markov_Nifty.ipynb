{
  "nbformat": 4,
  "nbformat_minor": 5,
  "metadata": {
    "kernelspec": {
      "display_name": "Python 3 (ipykernel)",
      "language": "python",
      "name": "python3"
    },
    "language_info": {
      "codemirror_mode": {
        "name": "ipython",
        "version": 3
      },
      "file_extension": ".py",
      "mimetype": "text/x-python",
      "name": "python",
      "nbconvert_exporter": "python",
      "pygments_lexer": "ipython3",
      "version": "3.8.5"
    },
    "colab": {
      "name": "Markov_Nifty.ipynb",
      "provenance": [],
      "collapsed_sections": []
    }
  },
  "cells": [
    {
      "cell_type": "code",
      "metadata": {
        "colab": {
          "base_uri": "https://localhost:8080/"
        },
        "id": "A6bKlRs390OH",
        "outputId": "ef12deac-d727-472d-fbc4-aec041e3dd02"
      },
      "source": [
        "pip install nsepython"
      ],
      "id": "A6bKlRs390OH",
      "execution_count": 6,
      "outputs": [
        {
          "output_type": "stream",
          "name": "stdout",
          "text": [
            "Requirement already satisfied: nsepython in /usr/local/lib/python3.7/dist-packages (0.0.972)\n",
            "Requirement already satisfied: scipy in /usr/local/lib/python3.7/dist-packages (from nsepython) (1.4.1)\n",
            "Requirement already satisfied: requests in /usr/local/lib/python3.7/dist-packages (from nsepython) (2.23.0)\n",
            "Requirement already satisfied: pandas in /usr/local/lib/python3.7/dist-packages (from nsepython) (1.1.5)\n",
            "Requirement already satisfied: python-dateutil>=2.7.3 in /usr/local/lib/python3.7/dist-packages (from pandas->nsepython) (2.8.2)\n",
            "Requirement already satisfied: numpy>=1.15.4 in /usr/local/lib/python3.7/dist-packages (from pandas->nsepython) (1.19.5)\n",
            "Requirement already satisfied: pytz>=2017.2 in /usr/local/lib/python3.7/dist-packages (from pandas->nsepython) (2018.9)\n",
            "Requirement already satisfied: six>=1.5 in /usr/local/lib/python3.7/dist-packages (from python-dateutil>=2.7.3->pandas->nsepython) (1.15.0)\n",
            "Requirement already satisfied: urllib3!=1.25.0,!=1.25.1,<1.26,>=1.21.1 in /usr/local/lib/python3.7/dist-packages (from requests->nsepython) (1.24.3)\n",
            "Requirement already satisfied: chardet<4,>=3.0.2 in /usr/local/lib/python3.7/dist-packages (from requests->nsepython) (3.0.4)\n",
            "Requirement already satisfied: idna<3,>=2.5 in /usr/local/lib/python3.7/dist-packages (from requests->nsepython) (2.10)\n",
            "Requirement already satisfied: certifi>=2017.4.17 in /usr/local/lib/python3.7/dist-packages (from requests->nsepython) (2021.10.8)\n"
          ]
        }
      ]
    },
    {
      "cell_type": "code",
      "metadata": {
        "colab": {
          "base_uri": "https://localhost:8080/",
          "height": 1000
        },
        "id": "315217f4-50b5-45b9-8110-8463538f1d1a",
        "outputId": "dd5f52a0-cec2-4bd3-cd2e-760bdc86ce12"
      },
      "source": [
        "from nsepython import *\n",
        "import numpy as np\n",
        "import matplotlib.pyplot as plt\n",
        "\n",
        "\n",
        "symbol = \"NIFTY 50\"\n",
        "days = 1000\n",
        "endDate = datetime.datetime.now().strftime(\"%d-%b-%Y\")\n",
        "endDate = str(endDate)\n",
        "\n",
        "startDate = (datetime.datetime.now()- datetime.timedelta(days=days)).strftime(\"%d-%b-%Y\")\n",
        "startDate = str(startDate)\n",
        "\n",
        "df=index_history(\"NIFTY 50\",startDate,endDate)\n",
        "print(df)\n",
        "\n",
        "df[\"state\"]=df[\"CLOSE\"].astype(float).pct_change()\n",
        "df['state']=df['state'].apply(lambda x: 'Downward' if (x < -0.001) else 'Upward' if (x > 0.001) else \"Stagnant\")\n",
        "df.tail()\n",
        "\n",
        "df['priorstate']=df['state'].shift(1)\n",
        "df.tail()\n",
        "\n",
        "states = df [['priorstate','state']].dropna()\n",
        "statesMatrix = states.groupby(['priorstate','state']).size().unstack().fillna(0)\n",
        "print(\"\\nStates Matrix: \\n\",statesMatrix)\n",
        "\n",
        "TransitionMatrix = statesMatrix.apply(lambda x: x/float(x.sum()),axis=1)\n",
        "print(\"\\nTransition Matrix: \\n\",TransitionMatrix)\n",
        "\n",
        "mpd = [1, 0, 0]\n",
        "probOfUp = []\n",
        "probOfDown = []\n",
        "probOfStag = []\n",
        "\n",
        "for i in range(0, 100):\n",
        "    print(mpd)\n",
        "    mpd = np.dot(mpd, TransitionMatrix)\n",
        "    probOfDown.append(mpd[0])\n",
        "    probOfUp.append(mpd[1])\n",
        "    probOfStag.append(mpd[2])\n",
        "\n",
        "plt.plot(probOfUp, label=\"Probability of stock going up\")\n",
        "plt.plot(probOfDown, label=\"Probability of stock going down\")\n",
        "plt.plot(probOfStag, label=\"Probability of stock staying stagnant\")\n",
        "plt.xlabel('Timestep')\n",
        "plt.ylabel('Probabilities')\n",
        "plt.legend(loc=(1.04,0))"
      ],
      "id": "315217f4-50b5-45b9-8110-8463538f1d1a",
      "execution_count": 7,
      "outputs": [
        {
          "output_type": "stream",
          "name": "stdout",
          "text": [
            "    Index Name INDEX_NAME HistoricalDate  ...      HIGH       LOW     CLOSE\n",
            "0     Nifty 50   NIFTY 50    25 Nov 2021  ...  17564.35  17351.70  17536.25\n",
            "1     Nifty 50   NIFTY 50    24 Nov 2021  ...  17600.60  17354.00  17415.05\n",
            "2     Nifty 50   NIFTY 50    23 Nov 2021  ...  17553.70  17216.10  17503.35\n",
            "3     Nifty 50   NIFTY 50    22 Nov 2021  ...  17805.25  17280.45  17416.55\n",
            "4     Nifty 50   NIFTY 50    18 Nov 2021  ...  17945.60  17688.50  17764.80\n",
            "..         ...        ...            ...  ...       ...       ...       ...\n",
            "421   Nifty 50   NIFTY 50    31 Oct 2019  ...  11945.00  11855.10  11877.00\n",
            "422   Nifty 50   NIFTY 50    30 Oct 2019  ...  11883.95  11784.45  11844.00\n",
            "423   Nifty 50   Nifty 50    23 Sep 2019  ...  11694.85  11471.35  11600.00\n",
            "424   Nifty 50   Nifty 50    20 Sep 2019  ...   11381.9     10691  11274.00\n",
            "425   Nifty 50   Nifty 50    31 Jul 2019  ...   11145.3   10999.4  11118.00\n",
            "\n",
            "[426 rows x 7 columns]\n",
            "\n",
            "States Matrix: \n",
            " state       Downward  Stagnant  Upward\n",
            "priorstate                            \n",
            "Downward          93        33      67\n",
            "Stagnant          38        18      23\n",
            "Upward            63        27      63\n",
            "\n",
            "Transition Matrix: \n",
            " state       Downward  Stagnant    Upward\n",
            "priorstate                              \n",
            "Downward    0.481865  0.170984  0.347150\n",
            "Stagnant    0.481013  0.227848  0.291139\n",
            "Upward      0.411765  0.176471  0.411765\n",
            "[1, 0, 0]\n",
            "[0.48186528 0.17098446 0.34715026]\n",
            "[0.45738406 0.18261177 0.36000417]\n",
            "[0.45647308 0.18334346 0.36018346]\n",
            "[0.45645989 0.18338605 0.36015406]\n",
            "[0.45646192 0.18338831 0.36014978]\n",
            "[0.45646222 0.18338841 0.36014937]\n",
            "[0.45646224 0.18338842 0.36014934]\n",
            "[0.45646225 0.18338842 0.36014934]\n",
            "[0.45646225 0.18338842 0.36014934]\n",
            "[0.45646225 0.18338842 0.36014934]\n",
            "[0.45646225 0.18338842 0.36014934]\n",
            "[0.45646225 0.18338842 0.36014934]\n",
            "[0.45646225 0.18338842 0.36014934]\n",
            "[0.45646225 0.18338842 0.36014934]\n",
            "[0.45646225 0.18338842 0.36014934]\n",
            "[0.45646225 0.18338842 0.36014934]\n",
            "[0.45646225 0.18338842 0.36014934]\n",
            "[0.45646225 0.18338842 0.36014934]\n",
            "[0.45646225 0.18338842 0.36014934]\n",
            "[0.45646225 0.18338842 0.36014934]\n",
            "[0.45646225 0.18338842 0.36014934]\n",
            "[0.45646225 0.18338842 0.36014934]\n",
            "[0.45646225 0.18338842 0.36014934]\n",
            "[0.45646225 0.18338842 0.36014934]\n",
            "[0.45646225 0.18338842 0.36014934]\n",
            "[0.45646225 0.18338842 0.36014934]\n",
            "[0.45646225 0.18338842 0.36014934]\n",
            "[0.45646225 0.18338842 0.36014934]\n",
            "[0.45646225 0.18338842 0.36014934]\n",
            "[0.45646225 0.18338842 0.36014934]\n",
            "[0.45646225 0.18338842 0.36014934]\n",
            "[0.45646225 0.18338842 0.36014934]\n",
            "[0.45646225 0.18338842 0.36014934]\n",
            "[0.45646225 0.18338842 0.36014934]\n",
            "[0.45646225 0.18338842 0.36014934]\n",
            "[0.45646225 0.18338842 0.36014934]\n",
            "[0.45646225 0.18338842 0.36014934]\n",
            "[0.45646225 0.18338842 0.36014934]\n",
            "[0.45646225 0.18338842 0.36014934]\n",
            "[0.45646225 0.18338842 0.36014934]\n",
            "[0.45646225 0.18338842 0.36014934]\n",
            "[0.45646225 0.18338842 0.36014934]\n",
            "[0.45646225 0.18338842 0.36014934]\n",
            "[0.45646225 0.18338842 0.36014934]\n",
            "[0.45646225 0.18338842 0.36014934]\n",
            "[0.45646225 0.18338842 0.36014934]\n",
            "[0.45646225 0.18338842 0.36014934]\n",
            "[0.45646225 0.18338842 0.36014934]\n",
            "[0.45646225 0.18338842 0.36014934]\n",
            "[0.45646225 0.18338842 0.36014934]\n",
            "[0.45646225 0.18338842 0.36014934]\n",
            "[0.45646225 0.18338842 0.36014934]\n",
            "[0.45646225 0.18338842 0.36014934]\n",
            "[0.45646225 0.18338842 0.36014934]\n",
            "[0.45646225 0.18338842 0.36014934]\n",
            "[0.45646225 0.18338842 0.36014934]\n",
            "[0.45646225 0.18338842 0.36014934]\n",
            "[0.45646225 0.18338842 0.36014934]\n",
            "[0.45646225 0.18338842 0.36014934]\n",
            "[0.45646225 0.18338842 0.36014934]\n",
            "[0.45646225 0.18338842 0.36014934]\n",
            "[0.45646225 0.18338842 0.36014934]\n",
            "[0.45646225 0.18338842 0.36014934]\n",
            "[0.45646225 0.18338842 0.36014934]\n",
            "[0.45646225 0.18338842 0.36014934]\n",
            "[0.45646225 0.18338842 0.36014934]\n",
            "[0.45646225 0.18338842 0.36014934]\n",
            "[0.45646225 0.18338842 0.36014934]\n",
            "[0.45646225 0.18338842 0.36014934]\n",
            "[0.45646225 0.18338842 0.36014934]\n",
            "[0.45646225 0.18338842 0.36014934]\n",
            "[0.45646225 0.18338842 0.36014934]\n",
            "[0.45646225 0.18338842 0.36014934]\n",
            "[0.45646225 0.18338842 0.36014934]\n",
            "[0.45646225 0.18338842 0.36014934]\n",
            "[0.45646225 0.18338842 0.36014934]\n",
            "[0.45646225 0.18338842 0.36014934]\n",
            "[0.45646225 0.18338842 0.36014934]\n",
            "[0.45646225 0.18338842 0.36014934]\n",
            "[0.45646225 0.18338842 0.36014934]\n",
            "[0.45646225 0.18338842 0.36014934]\n",
            "[0.45646225 0.18338842 0.36014934]\n",
            "[0.45646225 0.18338842 0.36014934]\n",
            "[0.45646225 0.18338842 0.36014934]\n",
            "[0.45646225 0.18338842 0.36014934]\n",
            "[0.45646225 0.18338842 0.36014934]\n",
            "[0.45646225 0.18338842 0.36014934]\n",
            "[0.45646225 0.18338842 0.36014934]\n",
            "[0.45646225 0.18338842 0.36014934]\n",
            "[0.45646225 0.18338842 0.36014934]\n",
            "[0.45646225 0.18338842 0.36014934]\n",
            "[0.45646225 0.18338842 0.36014934]\n",
            "[0.45646225 0.18338842 0.36014934]\n",
            "[0.45646225 0.18338842 0.36014934]\n",
            "[0.45646225 0.18338842 0.36014934]\n",
            "[0.45646225 0.18338842 0.36014934]\n",
            "[0.45646225 0.18338842 0.36014934]\n",
            "[0.45646225 0.18338842 0.36014934]\n",
            "[0.45646225 0.18338842 0.36014934]\n"
          ]
        },
        {
          "output_type": "execute_result",
          "data": {
            "text/plain": [
              "<matplotlib.legend.Legend at 0x7f1ce804c310>"
            ]
          },
          "metadata": {},
          "execution_count": 7
        },
        {
          "output_type": "display_data",
          "data": {
            "image/png": "[encoded data removed]",
            "text/plain": [
              "<Figure size 432x288 with 1 Axes>"
            ]
          },
          "metadata": {
            "needs_background": "light"
          }
        }
      ]
    },
    {
      "cell_type": "code",
      "metadata": {
        "colab": {
          "base_uri": "https://localhost:8080/",
          "height": 296
        },
        "id": "ca3db192-3521-42ad-8709-394aa52784bf",
        "outputId": "fc63f522-d732-4332-eae5-d70adfc63eeb"
      },
      "source": [
        "plt.plot(df[\"CLOSE\"].astype(float).pct_change(), label=\"Percentage change in stock day by day\")\n",
        "plt.xlabel('Timestep')\n",
        "plt.ylabel('%age change')\n",
        "plt.legend(loc=\"upper left\")"
      ],
      "id": "ca3db192-3521-42ad-8709-394aa52784bf",
      "execution_count": 8,
      "outputs": [
        {
          "output_type": "execute_result",
          "data": {
            "text/plain": [
              "<matplotlib.legend.Legend at 0x7f1ce67760d0>"
            ]
          },
          "metadata": {},
          "execution_count": 8
        },
        {
          "output_type": "display_data",
          "data": {
            "image/png": "[encoded data removed]",
            "text/plain": [
              "<Figure size 432x288 with 1 Axes>"
            ]
          },
          "metadata": {
            "needs_background": "light"
          }
        }
      ]
    }
  ]
}